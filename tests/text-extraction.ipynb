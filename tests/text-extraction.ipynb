{
 "cells": [
  {
   "cell_type": "code",
   "execution_count": 4,
   "metadata": {},
   "outputs": [],
   "source": [
    "from dotenv import load_dotenv\n",
    "import google.generativeai as genai\n",
    "import textwrap\n",
    "import json\n",
    "import os"
   ]
  },
  {
   "cell_type": "code",
   "execution_count": 5,
   "metadata": {},
   "outputs": [
    {
     "data": {
      "text/plain": [
       "'c:\\\\Users\\\\laksh\\\\OneDrive\\\\Desktop\\\\WebDev\\\\FFCS\\\\tests'"
      ]
     },
     "execution_count": 5,
     "metadata": {},
     "output_type": "execute_result"
    }
   ],
   "source": [
    "os.getcwd()"
   ]
  },
  {
   "cell_type": "code",
   "execution_count": 22,
   "metadata": {},
   "outputs": [],
   "source": [
    "load_dotenv()\n",
    "\n",
    "genai.configure(api_key=os.getenv(\"genai\"))\n",
    "myfile = genai.upload_file(\"test4.jpg\")"
   ]
  },
  {
   "cell_type": "code",
   "execution_count": 55,
   "metadata": {},
   "outputs": [],
   "source": [
    "slot = genai.protos.Schema(\n",
    "    type = genai.protos.Type.OBJECT,\n",
    "    properties = {\n",
    "        'faculty':genai.protos.Schema(type=genai.protos.Type.STRING),\n",
    "        'slot':genai.protos.Schema(type=genai.protos.Type.STRING),\n",
    "        'venue':genai.protos.Schema(type=genai.protos.Type.STRING),\n",
    "        'course_type':genai.protos.Schema(type=genai.protos.Type.STRING),\n",
    "    },\n",
    "    required=['faculty','slot','venue','course_type']\n",
    ")\n",
    "\n",
    "slots = genai.protos.Schema(\n",
    "    type=genai.protos.Type.ARRAY,\n",
    "    items=slot\n",
    ")\n",
    "\n",
    "course = genai.protos.Schema(\n",
    "    type=genai.protos.Type.OBJECT,\n",
    "    properties={\n",
    "        'course_list':genai.protos.Schema(type=genai.protos.Type.STRING),\n",
    "        'semeseter':genai.protos.Schema(type=genai.protos.Type.STRING),\n",
    "        'curriculum_category':genai.protos.Schema(type=genai.protos.Type.STRING),\n",
    "    },\n",
    ")"
   ]
  },
  {
   "cell_type": "code",
   "execution_count": 57,
   "metadata": {},
   "outputs": [],
   "source": [
    "extract = genai.protos.FunctionDeclaration(\n",
    "    name=\"add_to_database\",\n",
    "    description=textwrap.dedent(\"\"\"\\\n",
    "        Adds entities to the database.\n",
    "        \"\"\"),\n",
    "    parameters=genai.protos.Schema(\n",
    "        type=genai.protos.Type.OBJECT,\n",
    "        properties={\n",
    "            'course':course,\n",
    "            'slots': slots\n",
    "        }\n",
    "    )\n",
    ")"
   ]
  },
  {
   "cell_type": "code",
   "execution_count": 58,
   "metadata": {},
   "outputs": [],
   "source": [
    "model = genai.GenerativeModel(\"gemini-1.5-pro-latest\",tools=[extract])\n",
    "result = model.generate_content([\n",
    "    myfile,\n",
    "    \"Extract information from the image\"],\n",
    "    tool_config={'function_calling_config':'ANY'}\n",
    "    )"
   ]
  },
  {
   "cell_type": "code",
   "execution_count": 59,
   "metadata": {},
   "outputs": [
    {
     "name": "stdout",
     "output_type": "stream",
     "text": [
      "{\n",
      "    \"slots\": [\n",
      "        {\n",
      "            \"course_type\": \"ETH\",\n",
      "            \"faculty\": \"NIVITHA K\",\n",
      "            \"slot\": \"PRP323\",\n",
      "            \"venue\": \"A2\"\n",
      "        },\n",
      "        {\n",
      "            \"faculty\": \"THANGARAMYA K\",\n",
      "            \"course_type\": \"ETH\",\n",
      "            \"slot\": \"PRP414\",\n",
      "            \"venue\": \"A2\"\n",
      "        },\n",
      "        {\n",
      "            \"course_type\": \"ETH\",\n",
      "            \"faculty\": \"THANGARAMYA K\",\n",
      "            \"slot\": \"PRP414\",\n",
      "            \"venue\": \"A1\"\n",
      "        },\n",
      "        {\n",
      "            \"course_type\": \"ETH\",\n",
      "            \"slot\": \"PRP323\",\n",
      "            \"faculty\": \"NIVITHA K\",\n",
      "            \"venue\": \"A1\"\n",
      "        },\n",
      "        {\n",
      "            \"faculty\": \"SUNIL KUMAR\",\n",
      "            \"slot\": \"PRP411\",\n",
      "            \"course_type\": \"ETH\",\n",
      "            \"venue\": \"A2\"\n",
      "        },\n",
      "        {\n",
      "            \"course_type\": \"ETH\",\n",
      "            \"faculty\": \"S M FAROOQ\",\n",
      "            \"slot\": \"PRP575\",\n",
      "            \"venue\": \"A2\"\n",
      "        },\n",
      "        {\n",
      "            \"faculty\": \"SUNIL KUMAR\",\n",
      "            \"course_type\": \"ETH\",\n",
      "            \"slot\": \"PRP411\",\n",
      "            \"venue\": \"A1\"\n",
      "        },\n",
      "        {\n",
      "            \"course_type\": \"ETH\",\n",
      "            \"slot\": \"PRP575\",\n",
      "            \"faculty\": \"S M FAROOQ\",\n",
      "            \"venue\": \"A1\"\n",
      "        },\n",
      "        {\n",
      "            \"faculty\": \"THANGARAMYA K\",\n",
      "            \"slot\": \"SJT318\",\n",
      "            \"course_type\": \"ELA\",\n",
      "            \"venue\": \"L25+L26\"\n",
      "        },\n",
      "        {\n",
      "            \"faculty\": \"THANGARAMYA K\",\n",
      "            \"course_type\": \"ELA\",\n",
      "            \"slot\": \"SJT517\",\n",
      "            \"venue\": \"L51+L52\"\n",
      "        },\n",
      "        {\n",
      "            \"faculty\": \"S M FAROOQ\",\n",
      "            \"slot\": \"SJT622\",\n",
      "            \"course_type\": \"ELA\",\n",
      "            \"venue\": \"L7+L8\"\n",
      "        },\n",
      "        {\n",
      "            \"slot\": \"SJT515\",\n",
      "            \"course_type\": \"ELA\",\n",
      "            \"faculty\": \"THANGARAMYA K\",\n",
      "            \"venue\": \"L11+L12\"\n",
      "        },\n",
      "        {\n",
      "            \"slot\": \"SJT515\",\n",
      "            \"course_type\": \"ELA\",\n",
      "            \"faculty\": \"NIVITHA K\",\n",
      "            \"venue\": \"L41+L42\"\n",
      "        },\n",
      "        {\n",
      "            \"faculty\": \"SUNIL KUMAR\",\n",
      "            \"course_type\": \"ELA\",\n",
      "            \"slot\": \"SJT515\",\n",
      "            \"venue\": \"L11+L12\"\n",
      "        },\n",
      "        {\n",
      "            \"slot\": \"SJT516\",\n",
      "            \"faculty\": \"SUNIL KUMAR\",\n",
      "            \"course_type\": \"ELA\",\n",
      "            \"venue\": \"L41+L42\"\n",
      "        },\n",
      "        {\n",
      "            \"slot\": \"SJT516\",\n",
      "            \"faculty\": \"SUNIL KUMAR\",\n",
      "            \"course_type\": \"ELA\",\n",
      "            \"venue\": \"L41+L42\"\n",
      "        },\n",
      "        {\n",
      "            \"slot\": \"SJT622\",\n",
      "            \"faculty\": \"S M FAROOQ\",\n",
      "            \"course_type\": \"ELA\",\n",
      "            \"venue\": \"L51+L52\"\n",
      "        }\n",
      "    ],\n",
      "    \"course\": {\n",
      "        \"curriculum_category\": \"PC - Programme Core\",\n",
      "        \"semeseter\": \"Fall Semester 2024-25\",\n",
      "        \"course_list\": \"CSI3002 - Applied Cryptography and Network Security\"\n",
      "    }\n",
      "}\n"
     ]
    }
   ],
   "source": [
    "fc = result.candidates[0].content.parts[0].function_call\n",
    "data = type(fc).to_dict(fc)\n",
    "print(json.dumps(data[\"args\"],indent=4))"
   ]
  }
 ],
 "metadata": {
  "kernelspec": {
   "display_name": "Python 3",
   "language": "python",
   "name": "python3"
  },
  "language_info": {
   "codemirror_mode": {
    "name": "ipython",
    "version": 3
   },
   "file_extension": ".py",
   "mimetype": "text/x-python",
   "name": "python",
   "nbconvert_exporter": "python",
   "pygments_lexer": "ipython3",
   "version": "3.12.4"
  },
  "orig_nbformat": 4
 },
 "nbformat": 4,
 "nbformat_minor": 2
}
